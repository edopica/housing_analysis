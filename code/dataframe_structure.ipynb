{
 "cells": [
  {
   "cell_type": "code",
   "id": "initial_id",
   "metadata": {
    "collapsed": true,
    "ExecuteTime": {
     "end_time": "2024-12-08T11:44:09.639671Z",
     "start_time": "2024-12-08T11:44:08.690886Z"
    }
   },
   "source": [
    "import pandas as pd\n",
    "import numpy as np\n",
    "import matplotlib.pyplot as plt\n",
    "\n",
    "data_path = \"../data/\"\n",
    "housing_path = data_path + \"housing.csv\"\n"
   ],
   "outputs": [],
   "execution_count": 1
  },
  {
   "metadata": {},
   "cell_type": "markdown",
   "source": "# Dataset Informations",
   "id": "1e88281862c6fad3"
  },
  {
   "metadata": {
    "ExecuteTime": {
     "end_time": "2024-12-08T11:44:09.741409Z",
     "start_time": "2024-12-08T11:44:09.670246Z"
    }
   },
   "cell_type": "code",
   "source": [
    "df = pd.read_csv(housing_path)\n",
    "print(df.head())"
   ],
   "id": "bd47efa073cb48eb",
   "outputs": [
    {
     "name": "stdout",
     "output_type": "stream",
     "text": [
      "       Suburb           Address  Rooms Type      Price Method SellerG  \\\n",
      "0  Abbotsford      85 Turner St      2    h  1480000.0      S  Biggin   \n",
      "1  Abbotsford   25 Bloomburg St      2    h  1035000.0      S  Biggin   \n",
      "2  Abbotsford      5 Charles St      3    h  1465000.0     SP  Biggin   \n",
      "3  Abbotsford  40 Federation La      3    h   850000.0     PI  Biggin   \n",
      "4  Abbotsford       55a Park St      4    h  1600000.0     VB  Nelson   \n",
      "\n",
      "        Date  Distance  Postcode  ...  Bathroom  Car  Landsize  BuildingArea  \\\n",
      "0  3/12/2016       2.5    3067.0  ...       1.0  1.0     202.0           NaN   \n",
      "1  4/02/2016       2.5    3067.0  ...       1.0  0.0     156.0          79.0   \n",
      "2  4/03/2017       2.5    3067.0  ...       2.0  0.0     134.0         150.0   \n",
      "3  4/03/2017       2.5    3067.0  ...       2.0  1.0      94.0           NaN   \n",
      "4  4/06/2016       2.5    3067.0  ...       1.0  2.0     120.0         142.0   \n",
      "\n",
      "   YearBuilt  CouncilArea Lattitude  Longtitude             Regionname  \\\n",
      "0        NaN        Yarra  -37.7996    144.9984  Northern Metropolitan   \n",
      "1     1900.0        Yarra  -37.8079    144.9934  Northern Metropolitan   \n",
      "2     1900.0        Yarra  -37.8093    144.9944  Northern Metropolitan   \n",
      "3        NaN        Yarra  -37.7969    144.9969  Northern Metropolitan   \n",
      "4     2014.0        Yarra  -37.8072    144.9941  Northern Metropolitan   \n",
      "\n",
      "  Propertycount  \n",
      "0        4019.0  \n",
      "1        4019.0  \n",
      "2        4019.0  \n",
      "3        4019.0  \n",
      "4        4019.0  \n",
      "\n",
      "[5 rows x 21 columns]\n"
     ]
    }
   ],
   "execution_count": 2
  },
  {
   "metadata": {
    "ExecuteTime": {
     "end_time": "2024-12-08T11:47:45.093154Z",
     "start_time": "2024-12-08T11:47:45.087159Z"
    }
   },
   "cell_type": "code",
   "source": "print('DIMENSION: ',df.shape)",
   "id": "f5ca208c8ed4274e",
   "outputs": [
    {
     "name": "stdout",
     "output_type": "stream",
     "text": [
      "DIMENSION:  (13580, 21)\n"
     ]
    }
   ],
   "execution_count": 4
  },
  {
   "metadata": {
    "ExecuteTime": {
     "end_time": "2024-12-08T11:52:29.395774Z",
     "start_time": "2024-12-08T11:52:29.377366Z"
    }
   },
   "cell_type": "code",
   "source": "print(\"Not null size: \", df.shape[0] - df.dropna(axis=0,how='any').shape[0])",
   "id": "6bbc1099c6fdeb02",
   "outputs": [
    {
     "name": "stdout",
     "output_type": "stream",
     "text": [
      "Not null size:  7384\n"
     ]
    }
   ],
   "execution_count": 7
  },
  {
   "metadata": {
    "ExecuteTime": {
     "end_time": "2024-12-08T12:11:26.192689Z",
     "start_time": "2024-12-08T12:11:26.177105Z"
    }
   },
   "cell_type": "code",
   "source": [
    "columns = df.columns.values\n",
    "nan_for_col = dict()\n",
    "for col in columns:\n",
    "    nan_for_col[col] = df[col].isna().sum()\n",
    "    \n",
    "for k in nan_for_col.keys():\n",
    "    print(\"COL: \", k, \" | \", \" NANs: \", nan_for_col.get(k))"
   ],
   "id": "62fed467bf75218f",
   "outputs": [
    {
     "name": "stdout",
     "output_type": "stream",
     "text": [
      "COL:  Suburb  |   NANs:  0\n",
      "COL:  Address  |   NANs:  0\n",
      "COL:  Rooms  |   NANs:  0\n",
      "COL:  Type  |   NANs:  0\n",
      "COL:  Price  |   NANs:  0\n",
      "COL:  Method  |   NANs:  0\n",
      "COL:  SellerG  |   NANs:  0\n",
      "COL:  Date  |   NANs:  0\n",
      "COL:  Distance  |   NANs:  0\n",
      "COL:  Postcode  |   NANs:  0\n",
      "COL:  Bedroom2  |   NANs:  0\n",
      "COL:  Bathroom  |   NANs:  0\n",
      "COL:  Car  |   NANs:  62\n",
      "COL:  Landsize  |   NANs:  0\n",
      "COL:  BuildingArea  |   NANs:  6450\n",
      "COL:  YearBuilt  |   NANs:  5375\n",
      "COL:  CouncilArea  |   NANs:  1369\n",
      "COL:  Lattitude  |   NANs:  0\n",
      "COL:  Longtitude  |   NANs:  0\n",
      "COL:  Regionname  |   NANs:  0\n",
      "COL:  Propertycount  |   NANs:  0\n"
     ]
    }
   ],
   "execution_count": 10
  },
  {
   "metadata": {},
   "cell_type": "code",
   "outputs": [],
   "execution_count": null,
   "source": "",
   "id": "e3df0a120bff4bde"
  },
  {
   "metadata": {},
   "cell_type": "code",
   "outputs": [],
   "execution_count": null,
   "source": "",
   "id": "5a3dc13b1ccb2a32"
  },
  {
   "metadata": {},
   "cell_type": "code",
   "outputs": [],
   "execution_count": null,
   "source": "",
   "id": "812acb9a9451307c"
  },
  {
   "metadata": {},
   "cell_type": "code",
   "outputs": [],
   "execution_count": null,
   "source": "",
   "id": "c3e0f9b274ca4eb8"
  },
  {
   "metadata": {},
   "cell_type": "code",
   "outputs": [],
   "execution_count": null,
   "source": "",
   "id": "932c229e222b27e"
  }
 ],
 "metadata": {
  "kernelspec": {
   "display_name": "Python 3",
   "language": "python",
   "name": "python3"
  },
  "language_info": {
   "codemirror_mode": {
    "name": "ipython",
    "version": 2
   },
   "file_extension": ".py",
   "mimetype": "text/x-python",
   "name": "python",
   "nbconvert_exporter": "python",
   "pygments_lexer": "ipython2",
   "version": "2.7.6"
  }
 },
 "nbformat": 4,
 "nbformat_minor": 5
}
